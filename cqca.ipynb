{
 "cells": [
  {
   "cell_type": "markdown",
   "id": "9836f52f-8f95-4018-a79d-16fedc8027f8",
   "metadata": {},
   "source": [
    "**Disclaimer:**\n",
    "This notebook heavily relies on the paper [[1](#Sources)].\n",
    "However, notations, results and interpretations may differ."
   ]
  },
  {
   "cell_type": "markdown",
   "id": "c64786ac-8efa-4d75-bdd8-eb7194c86f1b",
   "metadata": {},
   "source": [
    "# **Clifford Quantum Cellular Automata**\n",
    "\n",
    "A Clifford Quantum Cellular Automaton (CQCA) is a ruleset for mapping Pauli gates to a set of Pauli gates (or identity gates).\n",
    "This globally unique ruleset is applied, at each time step, to every cell of an infinite lattice of cells.\n",
    "Each cell holds either one of the Pauli gates or an identity gate.\n",
    "The gates in this context are also referred to as Clifford operators.\n",
    "\n",
    "The application of an operator to another follows following rules:\n",
    "- $ i \\times i = I, i \\in \\{I, X, Y, Z\\} $ (Gates are unitary)\n",
    "- $ i \\times I = I \\times i = i, i \\in \\{I, X, Y, Z\\} $ (Identity is neutral)\n",
    "- $ i \\times j = k, i \\neq j \\neq k \\in \\{X, Y, Z\\} $\n",
    "\n",
    "Initially, all cells of the lattice hold identity gates.\n",
    "However, one can change a finite number of the cells before the first iteration to form a starting configuration.\n",
    "By then iterating over time steps, the configuration of the lattice changes.\n",
    "The patterns in the change are discussed in this notebook.\n",
    "\n",
    "Even though the dimensionality of the lattice does not matter in the context of CQCAs, it is easiest to consider only 1-dimensional lattices, i.e., spin chains.\n",
    "Therefore the notebook only uses such spin chains."
   ]
  },
  {
   "cell_type": "markdown",
   "id": "25e2d0f6-4273-4a8d-a773-352b1f9bedf8",
   "metadata": {
    "tags": []
   },
   "source": [
    "## **Environment Preparation**\n",
    "Technical necessities for the notebook to work properly."
   ]
  },
  {
   "cell_type": "code",
   "execution_count": null,
   "id": "3e870698-5668-43ed-90cf-16c973eacd34",
   "metadata": {
    "tags": []
   },
   "outputs": [],
   "source": [
    "%load_ext autoreload\n",
    "%autoreload 2\n",
    "%matplotlib inline"
   ]
  },
  {
   "cell_type": "code",
   "execution_count": null,
   "id": "d2f658e5-ddf5-4592-b161-25b81602d9a7",
   "metadata": {},
   "outputs": [],
   "source": [
    "from model.automaton import Automaton\n",
    "from model.lattice import Lattice, plot_evolution, plot_entanglement\n",
    "from model.gate import Identity, PauliX, PauliY, PauliZ"
   ]
  },
  {
   "cell_type": "markdown",
   "id": "e94f67e5-9e64-478f-a886-82af12310faa",
   "metadata": {
    "tags": []
   },
   "source": [
    "## **Rulesets**\n",
    "Rules are specified by mapping quantum gates to a list of quantum gates.\n",
    "For each cell, the corresponding rule is applied to the cell itself, as well as its neighborhood.\n",
    "\n",
    "Mapping from an X gate:\n",
    "First, a set of indices $ m_{X \\rightarrow X} $ specifies the cells, which map to X gates, relative to the origin.\n",
    "The next set $ m_{X \\rightarrow Z} $ specifies the indices mapping to Z gates.\n",
    "\n",
    "Mapping from a Z gate:\n",
    "Analogously, there are two sets mapping Z to X and Z to Z gates.\n",
    "\n",
    "In total, this yields the following matrix:\n",
    "\n",
    "$\n",
    "M =\n",
    "\\begin{pmatrix}\n",
    "m_{X \\rightarrow X} & m_{Z \\rightarrow X} \\\\\n",
    "m_{X \\rightarrow Z} & m_{Z \\rightarrow Z}\n",
    "\\end{pmatrix}\n",
    "$\n",
    "\n",
    "The mapping from a Y gate results from applying both an X and a Z gate (it also introduces a $1i$ coeffiecient, but it is of no importance here).\n",
    "\n",
    "For example, the matrix\n",
    "$\n",
    "M_G =\n",
    "\\begin{pmatrix}\n",
    "\\{\\} & \\{0\\} \\\\\n",
    "\\{0\\} & \\{-1, 1\\}\n",
    "\\end{pmatrix}\n",
    "$\n",
    "represents the following ruleset:\n",
    "\n",
    "$\n",
    "X \\rightarrow \\underline{Z} \\\\\n",
    "Y \\rightarrow Z \\underline{Y} Z \\\\\n",
    "Z \\rightarrow Z \\underline{X} Z\n",
    "$\n",
    "\n",
    "This matrix represents the so called glider CQCA, the behavior of which is studied next."
   ]
  },
  {
   "cell_type": "markdown",
   "id": "62b425b3-9cf7-4e88-8047-19d92fac638b",
   "metadata": {},
   "source": [
    "## **Classes of CQCAs**\n",
    "\n",
    "There are multiple classes of CQCAs:\n",
    "- Glider CQCAs\n",
    "- Fractal CQCAs\n",
    "- Periodic CQCAs"
   ]
  },
  {
   "cell_type": "markdown",
   "id": "999efe80-513f-4a78-892e-dd019358fdb9",
   "metadata": {},
   "source": [
    "### **Glider CQCAs**"
   ]
  },
  {
   "cell_type": "code",
   "execution_count": null,
   "id": "f65e7f37-2e2e-4f84-94b9-ca6a0c922dab",
   "metadata": {},
   "outputs": [],
   "source": [
    "glider = Automaton([[[], [0]], [[0], [-1, 1]]])"
   ]
  },
  {
   "cell_type": "markdown",
   "id": "c2fd3d5a-d9a6-4f75-9b09-5598c8173ef9",
   "metadata": {},
   "source": [
    "#### **Evolution of a Pauli Z Gate**\n",
    "A cell containing a Z gate will contain an X gate in the next time step, and also apply a Z gate to the surrounding cells.\n",
    "\n",
    "**Note:** Identity gates are not drawn explicitely."
   ]
  },
  {
   "cell_type": "code",
   "execution_count": null,
   "id": "8f820282-9082-4493-b86b-4cc213ba4ab6",
   "metadata": {},
   "outputs": [],
   "source": [
    "plot_evolution(glider, [PauliZ()], 5)"
   ]
  },
  {
   "cell_type": "markdown",
   "id": "1cd32c21-911f-460b-8aa6-00aa6e972bf3",
   "metadata": {},
   "source": [
    "#### **Evolution of a Pauli X Gate**\n",
    "An X gate will become a Z gate.\n",
    "The neighborhood is unchanged.\n",
    "From the second timestep forward the lattice behaves as if it had started with a Z gate."
   ]
  },
  {
   "cell_type": "code",
   "execution_count": null,
   "id": "8a6baeb5-5310-487c-9bd0-49e237d664e3",
   "metadata": {},
   "outputs": [],
   "source": [
    "plot_evolution(glider, [PauliX()], 5)"
   ]
  },
  {
   "cell_type": "markdown",
   "id": "58ad8e9a-de89-48d1-b8a9-a3d92ec6c209",
   "metadata": {
    "tags": []
   },
   "source": [
    "Since quantum gates, especially Pauli gates, are unitary, they are able to cancel each other out into identity gates.\n",
    "With the right configuration, the \"active\" gates (i.e., those, which are not the identity gates) propagate to a certain direction, leaving behind only \"inactive\" identity gates.\n",
    "\n",
    "Starting with Pauli X and Z gates next to each other, the CQCA propagates the two gates one cell to the right with each time step, hence the name \"glider\"."
   ]
  },
  {
   "cell_type": "code",
   "execution_count": null,
   "id": "41e574a2-aa50-4474-a336-91afafbc1c62",
   "metadata": {},
   "outputs": [],
   "source": [
    "plot_evolution(glider, [PauliX(), PauliZ()], 5)"
   ]
  },
  {
   "cell_type": "markdown",
   "id": "0c34d619-45df-4fac-964c-9e710ba3dad1",
   "metadata": {},
   "source": [
    "Analogously, the two cells can also move to the left with a mirrored initial configuration."
   ]
  },
  {
   "cell_type": "code",
   "execution_count": null,
   "id": "e45c2029-8cb7-4042-96c1-8897f189266f",
   "metadata": {},
   "outputs": [],
   "source": [
    "plot_evolution(glider, [PauliZ(), PauliX()], 5)"
   ]
  },
  {
   "cell_type": "markdown",
   "id": "37508f8d-04dd-4278-b750-5b88f639f679",
   "metadata": {},
   "source": [
    "### **Fractal CQCAs**\n",
    "\n",
    "The following configuration demonstartes fractal behavior."
   ]
  },
  {
   "cell_type": "code",
   "execution_count": null,
   "id": "825625b5-efd1-4a70-b35a-e732956cd904",
   "metadata": {
    "tags": []
   },
   "outputs": [],
   "source": [
    "fractal = Automaton([[[-1, 0, 1], [0]], [[0], []]])"
   ]
  },
  {
   "cell_type": "code",
   "execution_count": null,
   "id": "516e0937-0b4f-402a-834a-90d250950fc4",
   "metadata": {},
   "outputs": [],
   "source": [
    "plot_evolution(fractal, [PauliX()], 25)"
   ]
  },
  {
   "cell_type": "markdown",
   "id": "9c0880dc-044d-4fbd-ba05-043995cbc57d",
   "metadata": {},
   "source": [
    "With enough iterations (more than are feasible with the current visualization code) this CQCA evolves similar to the following figure (taken from [[1](#Sources)]):\n",
    "\n",
    "![Fractal CQCA](images/fractal.png)"
   ]
  },
  {
   "cell_type": "markdown",
   "id": "672bfd28-3863-41ee-a197-fc675ade3f79",
   "metadata": {},
   "source": [
    "### **Periodic CQCAs**\n",
    "\n",
    "Lastly, there are periodic CQCAs.\n",
    "This means that after a certain step, the configuration returns to itself after a finite amount of time steps."
   ]
  },
  {
   "cell_type": "code",
   "execution_count": null,
   "id": "a2b1643e-e594-4199-98f8-8d4499750a58",
   "metadata": {},
   "outputs": [],
   "source": [
    "periodic = Automaton([[[0], []], [[-1, 1], [0]]])"
   ]
  },
  {
   "cell_type": "code",
   "execution_count": null,
   "id": "06f267f1-54ba-42fc-97ea-832b90496177",
   "metadata": {},
   "outputs": [],
   "source": [
    "plot_evolution(periodic, [PauliX()], 5)"
   ]
  },
  {
   "cell_type": "markdown",
   "id": "78f3be33-a9b3-4347-b7b0-dc7e1cc8f8d3",
   "metadata": {},
   "source": [
    "## **Quantum entanglement**\n",
    "\n",
    "CQCAs are primarily designed with quantum systems in mind.\n",
    "Therefore it is of great interest to look at one of the most important aspects of quantum systems: Quantum entanglement.\n",
    "\n",
    "When the non-identity cells of the initial configuration are entangled, their \"reach\", which may be increasing over time, entangles further cells.\n",
    "Entanglement is also destroyed, if a cell returns to an identity gate."
   ]
  },
  {
   "cell_type": "markdown",
   "id": "86ebb9a7-9608-4140-8b2f-5fb63e0202aa",
   "metadata": {},
   "source": [
    "### **Translation invariant stabilizer states**\n",
    "\n",
    "In order to fully understand the entanglement behavior of CQCAs, the concept of translation invariant stabilizer states has to be defined.\n",
    "\n",
    "A translation invariant stabilizer state $ \\omega $ (for 1-dimensional lattices) is a chain of quantum states (qubits), which, after the application of a set of Clifford operator chains, again results in the same state.\n",
    "In the context of CQCAs, the set of Clifford operator chains are the so called generators $ \\mathbb{S} =\\{(\\cdots I_{i-1} Z_i I_{i+1} \\cdots), \\forall i \\in \\mathbb{Z}\\} $.\n",
    "\n",
    "The most important aspects are:\n",
    "1. For *every* such set of generators there exists a stabilizer state\n",
    "2. The application of a CQCA results in a different set of operator chains, which, in turn have their own stabilizer state"
   ]
  },
  {
   "cell_type": "markdown",
   "id": "59dcb725-c957-4f35-bf9c-37b57fb00896",
   "metadata": {},
   "source": [
    "### **Bipartite cuts**\n",
    "\n",
    "Entanglement is measured with respect to bipartite cuts of stabilizer states.\n",
    "The entanglement $ E(t) $ is the number of entangled qubit pairs relative to any bipartite cut, at time $ t $.\n",
    "\n",
    "Albeit all generators of the infinite set $ \\mathbb{S} $ are considered at once, the problem can be reduced to a finite amount of computation steps."
   ]
  },
  {
   "cell_type": "markdown",
   "id": "2d85f51a-a901-434c-8b7b-5c11aef7ae22",
   "metadata": {},
   "source": [
    "### **Entanglement measurement**\n",
    "\n",
    "The key to the solution to this seemingly infinite problem is the fact, that at any time, only a finite amount of cells are non-identity operators.\n",
    "This implies that only a finite amount of cells can be entangled.\n",
    "Therefore, one can iterate over all non-identity cells, and measure the number of cells entangled with them, and to which side of the cut they belong.\n",
    "This yields $ E(t) $.\n",
    "\n",
    "But how to determine, to which side of the cut an entangled cell belongs?\n",
    "This is solved directly by the definition of $ \\mathbb{S} $:\n",
    "An arbitrary cut in $ \\mathbb{S} $ already produces all possible cuts for a chain of cells.\n",
    "Therefore it is sufficient to take the cell $ c_{max} $ with the most number of entanglements $ n_{max} $ an add $ 1 $ to it.\n",
    "This yields the chain with the most entanglements.\n",
    "The maximum number of entangled qubit pairs is then simply $ E(t) = \\lfloor \\frac{1}{2} (n_{max} + 1) \\rfloor $."
   ]
  },
  {
   "cell_type": "markdown",
   "id": "e4f3299f-bdb3-43be-abd6-9bd6b41419f4",
   "metadata": {},
   "source": [
    "The following shows the evolution of $ E(t) $ over time for the different kinds of CQCAs for the initial configuration $ (\\cdots I Y X Y I \\cdots) $:"
   ]
  },
  {
   "cell_type": "code",
   "execution_count": null,
   "id": "dff3a326-d347-4f5f-a3d3-e15db4be2f00",
   "metadata": {},
   "outputs": [],
   "source": [
    "alms = [\n",
    "    (glider, \"Glider\", \"v\"),\n",
    "    (fractal, \"Fractal\", \"x\"),\n",
    "    (periodic, \"Periodic\", \"s\")\n",
    "]\n",
    "init_config = [PauliY(), PauliX(), PauliY()]"
   ]
  },
  {
   "cell_type": "code",
   "execution_count": null,
   "id": "8051aef6-b812-446b-b60c-61d8f20a7e7c",
   "metadata": {},
   "outputs": [],
   "source": [
    "plot_entanglement(alms, init_config, 20)"
   ]
  },
  {
   "cell_type": "markdown",
   "id": "48f05072-96af-49a0-8e22-9fc3c06cb576",
   "metadata": {},
   "source": [
    "Iterating the fractal CQCA further, the entanglement evolves as follows:\n",
    "\n",
    "![Fractal entanglement](images/entanglement-fractal-150.png)"
   ]
  },
  {
   "cell_type": "markdown",
   "id": "1d2d8213-c915-430f-bcbf-6666d94edf6d",
   "metadata": {},
   "source": [
    "Alternatively, entanglement can also be measured with respect to tripartite cuts.\n",
    "This, however, is out of the scope of this notebook."
   ]
  },
  {
   "cell_type": "markdown",
   "id": "9dcb6af8-8d9e-47dc-92f3-0de274a8c2ea",
   "metadata": {},
   "source": [
    "# **Sources**\n",
    "\n",
    "[1] Gütschow, Johannes. \"Entanglement generation of Clifford quantum cellular automata.\" Applied Physics B 98.4 (2010): 623-633."
   ]
  },
  {
   "cell_type": "code",
   "execution_count": null,
   "id": "f9539a1d-cb46-4440-a4fc-c58a1323a899",
   "metadata": {},
   "outputs": [],
   "source": []
  }
 ],
 "metadata": {
  "kernelspec": {
   "display_name": "Python 3 (ipykernel)",
   "language": "python",
   "name": "python3"
  },
  "language_info": {
   "codemirror_mode": {
    "name": "ipython",
    "version": 3
   },
   "file_extension": ".py",
   "mimetype": "text/x-python",
   "name": "python",
   "nbconvert_exporter": "python",
   "pygments_lexer": "ipython3",
   "version": "3.8.10"
  }
 },
 "nbformat": 4,
 "nbformat_minor": 5
}
