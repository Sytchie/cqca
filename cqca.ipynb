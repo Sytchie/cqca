{
 "cells": [
  {
   "cell_type": "markdown",
   "id": "c64786ac-8efa-4d75-bdd8-eb7194c86f1b",
   "metadata": {},
   "source": [
    "# Clifford Quantum Cellular Automata\n",
    "A Clifford Quantum Cellular Automaton (CQCA) is a *globally unique* ruleset for mapping Pauli gates to a set of Pauli gates.\n",
    "This ruleset is applied, at each time step, to every cell of an infinite lattice.\n",
    "Each cell holds a Pauli gate.\n",
    "\n",
    "The application of a gate to another follows following rules:\n",
    "- $i \\times i = I, i \\in \\{I, X, Y, Z\\}$ (Unitary operator)\n",
    "- $i \\times I = I \\times i = i, i \\in \\{I, X, Y, Z\\}$ (Identity is neutral)\n",
    "- $i \\times j = k, i \\neq j \\neq k \\in \\{X, Y, Z\\}$\n",
    "\n",
    "Initially, all cells of the lattice are identity gates.\n",
    "However, one can change some of the cells before the first iteration to form a starting configuration.\n",
    "By then iterating over time steps, the configuration of the lattice changes.\n",
    "The patterns in the change are discussed in this notebook.\n",
    "\n",
    "In this notebook, the lattice is always 1-dimensional (i.e., a spin chain)."
   ]
  },
  {
   "cell_type": "markdown",
   "id": "25e2d0f6-4273-4a8d-a773-352b1f9bedf8",
   "metadata": {
    "tags": []
   },
   "source": [
    "## Environment Preparation\n",
    "Technical necessities for the notebook to work properly."
   ]
  },
  {
   "cell_type": "code",
   "execution_count": 1,
   "id": "3e870698-5668-43ed-90cf-16c973eacd34",
   "metadata": {
    "tags": []
   },
   "outputs": [],
   "source": [
    "%load_ext autoreload\n",
    "%autoreload 2\n",
    "%matplotlib inline"
   ]
  },
  {
   "cell_type": "code",
   "execution_count": 2,
   "id": "d2f658e5-ddf5-4592-b161-25b81602d9a7",
   "metadata": {},
   "outputs": [],
   "source": [
    "from util import list_to_str, plot_entanglement\n",
    "from model.automaton import Automaton\n",
    "from model.lattice import Lattice\n",
    "from model.gate import Identity, PauliX, PauliY, PauliZ"
   ]
  },
  {
   "cell_type": "markdown",
   "id": "e94f67e5-9e64-478f-a886-82af12310faa",
   "metadata": {
    "tags": []
   },
   "source": [
    "## Rulesets\n",
    "Rules are specified by mapping gates to a list of gates.\n",
    "For each cell, the corresponding rule is applied to the cell itself, as well as its neighborhood.\n",
    "\n",
    "The rules are encoded as matrices of Laurent polynomials. TODO"
   ]
  },
  {
   "cell_type": "code",
   "execution_count": 3,
   "id": "f65e7f37-2e2e-4f84-94b9-ca6a0c922dab",
   "metadata": {},
   "outputs": [],
   "source": [
    "glider = Automaton([[[], [0]], [[0], [-1, 1]]])"
   ]
  },
  {
   "cell_type": "markdown",
   "id": "c2fd3d5a-d9a6-4f75-9b09-5598c8173ef9",
   "metadata": {},
   "source": [
    "### Evolution of a Pauli Z Gate\n",
    "A cell containing a Z gate will contain an X gate in the next time step, and also apply a Z gate to the surrounding cells."
   ]
  },
  {
   "cell_type": "code",
   "execution_count": 4,
   "id": "1c7d891f",
   "metadata": {},
   "outputs": [
    {
     "name": "stdout",
     "output_type": "stream",
     "text": [
      "\t\t\t\t\t1Z\t\t\t\t\t\n",
      "\t\t\t\t1Z\t1X\t1Z\t\t\t\t\n",
      "\t\t\t1Z\t1X\t1Z\t1X\t1Z\t\t\t\n",
      "\t\t1Z\t1X\t1Z\t1X\t1Z\t1X\t1Z\t\t\n",
      "\t1Z\t1X\t1Z\t1X\t1Z\t1X\t1Z\t1X\t1Z\t\n",
      "1Z\t1X\t1Z\t1X\t1Z\t1X\t1Z\t1X\t1Z\t1X\t1Z\n"
     ]
    }
   ],
   "source": [
    "lattice = Lattice([PauliZ()], glider)\n",
    "\n",
    "res = lattice.iterate(5)\n",
    "\n",
    "for cells, _ in res:\n",
    "    print(list_to_str(cells))"
   ]
  },
  {
   "cell_type": "markdown",
   "id": "1cd32c21-911f-460b-8aa6-00aa6e972bf3",
   "metadata": {},
   "source": [
    "### Evolution of a Pauli X Gate.\n",
    "An X gate will become a Z gate.\n",
    "The neighborhood is unchanged.\n",
    "From the second timestep forward the lattice behaves as if it had started with a Z gate."
   ]
  },
  {
   "cell_type": "code",
   "execution_count": 5,
   "id": "8a6baeb5-5310-487c-9bd0-49e237d664e3",
   "metadata": {},
   "outputs": [
    {
     "name": "stdout",
     "output_type": "stream",
     "text": [
      "\t\t\t\t1X\t\t\t\t\n",
      "\t\t\t\t1Z\t\t\t\t\n",
      "\t\t\t1Z\t1X\t1Z\t\t\t\n",
      "\t\t1Z\t1X\t1Z\t1X\t1Z\t\t\n",
      "\t1Z\t1X\t1Z\t1X\t1Z\t1X\t1Z\t\n",
      "1Z\t1X\t1Z\t1X\t1Z\t1X\t1Z\t1X\t1Z\n"
     ]
    }
   ],
   "source": [
    "lattice = Lattice([PauliX()], glider)\n",
    "\n",
    "res = lattice.iterate(5)\n",
    "\n",
    "for cells, _ in res:\n",
    "    print(list_to_str(cells))"
   ]
  },
  {
   "cell_type": "markdown",
   "id": "58ad8e9a-de89-48d1-b8a9-a3d92ec6c209",
   "metadata": {
    "tags": []
   },
   "source": [
    "### Glider\n",
    "Since quantum gates, especially Pauli gates, are unitary, they are able to cancel each other out into identity gates. With the right configuration, the \"active\" gates (i.e., those, which are not the identity gates) propagate to a certain direction, leaving behind only \"inactive\" identity gates.\n",
    "\n",
    "**Example:** Starting with Pauli X and Z gates next to each other produces a basic glider."
   ]
  },
  {
   "cell_type": "code",
   "execution_count": 6,
   "id": "41e574a2-aa50-4474-a336-91afafbc1c62",
   "metadata": {},
   "outputs": [
    {
     "name": "stdout",
     "output_type": "stream",
     "text": [
      "1X\t1Z\t\t\t\t\t\n",
      "\t1X\t1Z\t\t\t\t\n",
      "\t\t1X\t1Z\t\t\t\n",
      "\t\t\t1X\t1Z\t\t\n",
      "\t\t\t\t1X\t1Z\t\n",
      "\t\t\t\t\t1X\t1Z\n"
     ]
    }
   ],
   "source": [
    "lattice = Lattice([PauliX(), PauliZ()], glider)\n",
    "\n",
    "res = lattice.iterate(5)\n",
    "\n",
    "for cells, _ in res:\n",
    "    print(list_to_str(cells))"
   ]
  },
  {
   "cell_type": "markdown",
   "id": "37508f8d-04dd-4278-b750-5b88f639f679",
   "metadata": {},
   "source": [
    "## Fractal Behavior\n",
    "The following configuration exhibits a fractal behavior."
   ]
  },
  {
   "cell_type": "code",
   "execution_count": 7,
   "id": "825625b5-efd1-4a70-b35a-e732956cd904",
   "metadata": {
    "tags": []
   },
   "outputs": [],
   "source": [
    "fractal = Automaton([[[-1, 0, 1], [0]], [[0], []]])"
   ]
  },
  {
   "cell_type": "code",
   "execution_count": 8,
   "id": "516e0937-0b4f-402a-834a-90d250950fc4",
   "metadata": {},
   "outputs": [
    {
     "name": "stdout",
     "output_type": "stream",
     "text": [
      "\t\t\t\t\t1X\t1Y\t1Z\t1Y\t1X\t\t\t\t\t\n",
      "\t\t\t\t1X\t1Z\t1Y\t1X\t1Y\t1Z\t1X\t\t\t\t\n",
      "\t\t\t1X\t1Y\t1X\t1Y\t1Y\t1Y\t1X\t1Y\t1X\t\t\t\n",
      "\t\t1X\t1Z\t1Z\t1Y\t1Z\t1Z\t1Z\t1Y\t1Z\t1Z\t1X\t\t\n",
      "\t1X\t1Y\t\t\t1Z\t\t1X\t\t1Z\t\t\t1Y\t1X\t\n",
      "1X\t1Z\t1Y\t1X\t\t1X\t1X\t1Y\t1X\t1X\t\t1X\t1Y\t1Z\t1X\n"
     ]
    }
   ],
   "source": [
    "lattice = Lattice([PauliX(), PauliY(), PauliZ(), PauliY(), PauliX()], fractal)\n",
    "\n",
    "res = lattice.iterate(5)\n",
    "\n",
    "for cells, _ in res:\n",
    "    print(list_to_str(cells))"
   ]
  },
  {
   "cell_type": "markdown",
   "id": "ced1d809-5678-4447-9140-61fc1b8b28d0",
   "metadata": {},
   "source": [
    "## Entanglement\n",
    "When the initial cells are entangled, their \"reach\", which may be increasing over time, entangles further cells. TODO"
   ]
  },
  {
   "cell_type": "code",
   "execution_count": 9,
   "id": "6589e997-a20b-46c0-82d7-e3366f154ba9",
   "metadata": {},
   "outputs": [],
   "source": [
    "glider2 = Automaton([[[], [0]], [[0], [-2, 2]]])"
   ]
  },
  {
   "cell_type": "code",
   "execution_count": 10,
   "id": "dff3a326-d347-4f5f-a3d3-e15db4be2f00",
   "metadata": {},
   "outputs": [],
   "source": [
    "alms = [\n",
    "    (glider, \"Glider\", \"v\"),\n",
    "    (glider2, \"Glider (length 2)\", \"^\"),\n",
    "    (fractal, \"Fractal\", \"x\"),\n",
    "    #(periodical, \"Periodical\", \"s\")\n",
    "]\n",
    "init_config = [PauliY(), PauliX(), PauliY()]\n",
    "max_t = 20"
   ]
  },
  {
   "cell_type": "code",
   "execution_count": 11,
   "id": "8051aef6-b812-446b-b60c-61d8f20a7e7c",
   "metadata": {},
   "outputs": [
    {
     "data": {
      "image/png": "[encoded data removed]",
      "text/plain": [
       "<Figure size 432x288 with 1 Axes>"
      ]
     },
     "metadata": {
      "needs_background": "light"
     },
     "output_type": "display_data"
    }
   ],
   "source": [
    "plot_entanglement(alms, init_config, max_t)"
   ]
  },
  {
   "cell_type": "code",
   "execution_count": null,
   "id": "df524897-c60a-44fe-bbe1-015913daf83d",
   "metadata": {},
   "outputs": [],
   "source": []
  }
 ],
 "metadata": {
  "kernelspec": {
   "display_name": "Python 3 (ipykernel)",
   "language": "python",
   "name": "python3"
  },
  "language_info": {
   "codemirror_mode": {
    "name": "ipython",
    "version": 3
   },
   "file_extension": ".py",
   "mimetype": "text/x-python",
   "name": "python",
   "nbconvert_exporter": "python",
   "pygments_lexer": "ipython3",
   "version": "3.8.10"
  }
 },
 "nbformat": 4,
 "nbformat_minor": 5
}
