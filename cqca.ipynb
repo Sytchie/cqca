{
 "cells": [
  {
   "cell_type": "markdown",
   "id": "c64786ac-8efa-4d75-bdd8-eb7194c86f1b",
   "metadata": {},
   "source": [
    "# Clifford Quantum Cellular Automata\n",
    "A Clifford Quantum Cellular Automaton (CQCA) is a *globally unique* ruleset for mapping Pauli gates to a set of Pauli gates.\n",
    "This ruleset is applied, at each time step, to every cell of an infinite lattice, which itself is, at first, an identity gate.\n",
    "\n",
    "The application of a gate to another follows following rules:\n",
    "- $i \\times i = I, i \\in \\{I, X, Y, Z\\}$ (Unitary operator)\n",
    "- $i \\times I = I \\times i = i, i \\in \\{I, X, Y, Z\\}$ (Identity is neutral)\n",
    "- $i \\times j = k, i \\neq j \\neq k \\in \\{X, Y, Z\\}$"
   ]
  },
  {
   "cell_type": "markdown",
   "id": "25e2d0f6-4273-4a8d-a773-352b1f9bedf8",
   "metadata": {
    "tags": []
   },
   "source": [
    "## Environment Preparation\n",
    "Technical necessities for the notebook to work properly."
   ]
  },
  {
   "cell_type": "code",
   "execution_count": null,
   "id": "3e870698-5668-43ed-90cf-16c973eacd34",
   "metadata": {
    "tags": []
   },
   "outputs": [],
   "source": [
    "%load_ext autoreload\n",
    "%autoreload 2"
   ]
  },
  {
   "cell_type": "code",
   "execution_count": null,
   "id": "d2f658e5-ddf5-4592-b161-25b81602d9a7",
   "metadata": {},
   "outputs": [],
   "source": [
    "import util\n",
    "from model.lattice import Lattice\n",
    "from model.gate import Identity, PauliX, PauliY, PauliZ"
   ]
  },
  {
   "cell_type": "markdown",
   "id": "e94f67e5-9e64-478f-a886-82af12310faa",
   "metadata": {
    "tags": []
   },
   "source": [
    "## Example Ruleset\n",
    "Rules are specified by mapping gates to a list of gates.\n",
    "For each cell, the corresponding rule is applied to the cell itself, as well as its neighborhood."
   ]
  },
  {
   "cell_type": "code",
   "execution_count": null,
   "id": "32da5043",
   "metadata": {},
   "outputs": [],
   "source": [
    "ruleset = {\n",
    "    Identity: ([Identity()], 0),\n",
    "    PauliX: ([PauliZ()], 0),\n",
    "    PauliY: ([PauliZ(-1), PauliY(), PauliZ()], 1),\n",
    "    PauliZ: ([PauliZ(), PauliX(), PauliZ()], 1)\n",
    "}"
   ]
  },
  {
   "cell_type": "markdown",
   "id": "c2fd3d5a-d9a6-4f75-9b09-5598c8173ef9",
   "metadata": {},
   "source": [
    "### Evolution of a Pauli Z Gate\n",
    "A cell containing a Z gate will contain an X gate in the next time step, and also apply a Z gate to the surrounding cells."
   ]
  },
  {
   "cell_type": "code",
   "execution_count": null,
   "id": "1c7d891f",
   "metadata": {},
   "outputs": [],
   "source": [
    "lattice = Lattice([PauliZ()], ruleset)\n",
    "\n",
    "res = lattice.iterate(5)\n",
    "\n",
    "for cells in res:\n",
    "    util.print_list(cells)"
   ]
  },
  {
   "cell_type": "markdown",
   "id": "1cd32c21-911f-460b-8aa6-00aa6e972bf3",
   "metadata": {},
   "source": [
    "### Evolution of a Pauli X Gate.\n",
    "An X gate will become a Z gate.\n",
    "The neighborhood is unchanged.\n",
    "From the second timestep forward the lattice behaves as if it had started with a Z gate."
   ]
  },
  {
   "cell_type": "code",
   "execution_count": null,
   "id": "8a6baeb5-5310-487c-9bd0-49e237d664e3",
   "metadata": {},
   "outputs": [],
   "source": [
    "lattice = Lattice([PauliX()], ruleset)\n",
    "\n",
    "res = lattice.iterate(5)\n",
    "\n",
    "for cells in res:\n",
    "    util.print_list(cells)"
   ]
  },
  {
   "cell_type": "markdown",
   "id": "58ad8e9a-de89-48d1-b8a9-a3d92ec6c209",
   "metadata": {
    "tags": []
   },
   "source": [
    "### Glider\n",
    "Since quantum gates, especially Pauli gates, are unitary, they are able to cancel each other out into identity gates. With the right configuration, the \"active\" gates (i.e., those, which are not the identity gates) propagate to a certain direction, leaving behind only \"inactive\" identity gates.\n",
    "\n",
    "Starting with Pauli X and Z gates next to each other, for example, produces a basic glider."
   ]
  },
  {
   "cell_type": "code",
   "execution_count": null,
   "id": "41e574a2-aa50-4474-a336-91afafbc1c62",
   "metadata": {},
   "outputs": [],
   "source": [
    "lattice = Lattice([PauliX(), PauliZ()], ruleset)\n",
    "\n",
    "res = lattice.iterate(5)\n",
    "\n",
    "for cells in res:\n",
    "    util.print_list(cells)"
   ]
  },
  {
   "cell_type": "markdown",
   "id": "37508f8d-04dd-4278-b750-5b88f639f679",
   "metadata": {},
   "source": [
    "## Fractal Behavior\n",
    "The following configuration exhibits fractal behavior."
   ]
  },
  {
   "cell_type": "code",
   "execution_count": null,
   "id": "825625b5-efd1-4a70-b35a-e732956cd904",
   "metadata": {},
   "outputs": [],
   "source": [
    "ruleset = {\n",
    "    Identity: ([Identity()], 0),\n",
    "    PauliX: ([PauliX(), PauliY(), PauliX()], 1),\n",
    "    PauliY: ([PauliZ(-1), PauliY(), PauliZ()], 1),\n",
    "    PauliZ: ([PauliX()], 0)\n",
    "}"
   ]
  },
  {
   "cell_type": "code",
   "execution_count": null,
   "id": "516e0937-0b4f-402a-834a-90d250950fc4",
   "metadata": {},
   "outputs": [],
   "source": [
    "lattice = Lattice([PauliX(), PauliY(), PauliZ(), PauliY(), PauliX()], ruleset)\n",
    "\n",
    "res = lattice.iterate(5)\n",
    "\n",
    "for cells in res:\n",
    "    util.print_list(cells)"
   ]
  },
  {
   "cell_type": "markdown",
   "id": "ced1d809-5678-4447-9140-61fc1b8b28d0",
   "metadata": {},
   "source": [
    "## Entanglement\n",
    "When the initial cells are entangled, their \"reach\", which is increasing over time, entangles further cells.\n",
    "\n",
    "**Example:** The glider entangles the cells to the right."
   ]
  },
  {
   "cell_type": "code",
   "execution_count": null,
   "id": "5282ea2e-411e-48e9-b8ba-799e3c491347",
   "metadata": {},
   "outputs": [],
   "source": [
    "ruleset = {\n",
    "    Identity: ([Identity()], 0),\n",
    "    PauliX: ([PauliZ()], 0),\n",
    "    PauliY: ([PauliZ(-1), PauliY(), PauliZ()], 1),\n",
    "    PauliZ: ([PauliZ(), PauliX(), PauliZ()], 1)\n",
    "}"
   ]
  },
  {
   "cell_type": "code",
   "execution_count": null,
   "id": "d4fea4c4-db3f-458d-aa1f-cc97c3e078ea",
   "metadata": {},
   "outputs": [],
   "source": [
    "lattice = Lattice([PauliX(), PauliZ()], ruleset, True)\n",
    "\n",
    "res = lattice.iterate(5)\n",
    "\n",
    "for cells in res:\n",
    "    util.print_list(cells)\n",
    "\n",
    "print(id(res[-1][-1]), [id(cell) for cell in res[-1][-1].entanglements])"
   ]
  },
  {
   "cell_type": "code",
   "execution_count": null,
   "id": "9c4a3929-df90-4d59-a2e8-685ba5f0e44a",
   "metadata": {},
   "outputs": [],
   "source": []
  }
 ],
 "metadata": {
  "kernelspec": {
   "display_name": "Python 3 (ipykernel)",
   "language": "python",
   "name": "python3"
  },
  "language_info": {
   "codemirror_mode": {
    "name": "ipython",
    "version": 3
   },
   "file_extension": ".py",
   "mimetype": "text/x-python",
   "name": "python",
   "nbconvert_exporter": "python",
   "pygments_lexer": "ipython3",
   "version": "3.8.10"
  }
 },
 "nbformat": 4,
 "nbformat_minor": 5
}
