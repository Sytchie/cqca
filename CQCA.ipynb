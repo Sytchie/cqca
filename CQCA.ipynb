{
 "cells": [
  {
   "cell_type": "markdown",
   "id": "c64786ac-8efa-4d75-bdd8-eb7194c86f1b",
   "metadata": {},
   "source": [
    "# Clifford Quantum Cellular Automata"
   ]
  },
  {
   "cell_type": "code",
   "execution_count": 1,
   "id": "3e870698-5668-43ed-90cf-16c973eacd34",
   "metadata": {},
   "outputs": [],
   "source": [
    "%load_ext autoreload\n",
    "%autoreload 2"
   ]
  },
  {
   "cell_type": "code",
   "execution_count": 2,
   "id": "d2f658e5-ddf5-4592-b161-25b81602d9a7",
   "metadata": {},
   "outputs": [],
   "source": [
    "from model.lattice import Lattice\n",
    "from model.gates import *"
   ]
  },
  {
   "cell_type": "code",
   "execution_count": 3,
   "id": "32da5043",
   "metadata": {},
   "outputs": [],
   "source": [
    "rules = {\n",
    "    Identity: ([(1, Identity)], 0),\n",
    "    PauliX: ([(1, PauliZ)], 0),\n",
    "    PauliZ: ([(1, PauliZ), (1, PauliX), (1, PauliZ)], 1),\n",
    "    PauliY: ([(-1, PauliZ), (1, PauliY), (1, PauliZ)], 1)\n",
    "}"
   ]
  },
  {
   "cell_type": "code",
   "execution_count": 4,
   "id": "1c7d891f",
   "metadata": {},
   "outputs": [
    {
     "name": "stdout",
     "output_type": "stream",
     "text": [
      "1Z\n",
      "1Z 1X 1Z\n",
      "1Z 1X 1Z 1X 1Z\n"
     ]
    }
   ],
   "source": [
    "lattice = Lattice([(1, PauliZ())], rules)\n",
    "\n",
    "print(lattice)\n",
    "lattice.step()\n",
    "print(lattice)\n",
    "lattice.step()\n",
    "print(lattice)"
   ]
  },
  {
   "cell_type": "code",
   "execution_count": 5,
   "id": "41e574a2-aa50-4474-a336-91afafbc1c62",
   "metadata": {},
   "outputs": [
    {
     "name": "stdout",
     "output_type": "stream",
     "text": [
      "1X 1Z\n",
      "1I 1X 1Z\n",
      "1I 1I 1X 1Z\n"
     ]
    }
   ],
   "source": [
    "lattice = Lattice([(1, PauliX()), (1, PauliZ())], rules)\n",
    "\n",
    "print(lattice)\n",
    "lattice.step()\n",
    "print(lattice)\n",
    "lattice.step()\n",
    "print(lattice)"
   ]
  },
  {
   "cell_type": "code",
   "execution_count": null,
   "id": "e1482f36-2c92-4c7b-8f6c-06b67b129372",
   "metadata": {},
   "outputs": [],
   "source": []
  }
 ],
 "metadata": {
  "kernelspec": {
   "display_name": "Python 3 (ipykernel)",
   "language": "python",
   "name": "python3"
  },
  "language_info": {
   "codemirror_mode": {
    "name": "ipython",
    "version": 3
   },
   "file_extension": ".py",
   "mimetype": "text/x-python",
   "name": "python",
   "nbconvert_exporter": "python",
   "pygments_lexer": "ipython3",
   "version": "3.8.9"
  }
 },
 "nbformat": 4,
 "nbformat_minor": 5
}
