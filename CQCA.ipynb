{
 "cells": [
  {
   "cell_type": "markdown",
   "id": "c64786ac-8efa-4d75-bdd8-eb7194c86f1b",
   "metadata": {},
   "source": [
    "# Clifford Quantum Cellular Automata"
   ]
  },
  {
   "cell_type": "markdown",
   "id": "25e2d0f6-4273-4a8d-a773-352b1f9bedf8",
   "metadata": {},
   "source": [
    "## Environment Preparation"
   ]
  },
  {
   "cell_type": "code",
   "execution_count": 1,
   "id": "3e870698-5668-43ed-90cf-16c973eacd34",
   "metadata": {
    "tags": []
   },
   "outputs": [],
   "source": [
    "%load_ext autoreload\n",
    "%autoreload 2"
   ]
  },
  {
   "cell_type": "code",
   "execution_count": 2,
   "id": "d2f658e5-ddf5-4592-b161-25b81602d9a7",
   "metadata": {},
   "outputs": [],
   "source": [
    "import util\n",
    "from model.lattice import Lattice\n",
    "from model.gates import Identity, PauliX, PauliY, PauliZ"
   ]
  },
  {
   "cell_type": "markdown",
   "id": "e94f67e5-9e64-478f-a886-82af12310faa",
   "metadata": {
    "tags": []
   },
   "source": [
    "## Example Rule\n",
    "Rules are specified by mapping gates to a list of gates while keeping in mind which mapping is responsible for the current cell itself"
   ]
  },
  {
   "cell_type": "code",
   "execution_count": 3,
   "id": "32da5043",
   "metadata": {},
   "outputs": [],
   "source": [
    "rules = {\n",
    "    Identity: ([Identity()], 0),\n",
    "    PauliX: ([PauliZ()], 0),\n",
    "    PauliY: ([PauliZ(-1), PauliY(), PauliZ()], 1),\n",
    "    PauliZ: ([PauliZ(), PauliX(), PauliZ()], 1)\n",
    "}"
   ]
  },
  {
   "cell_type": "markdown",
   "id": "1cd32c21-911f-460b-8aa6-00aa6e972bf3",
   "metadata": {},
   "source": [
    "### Evolution of Pauli X Gate"
   ]
  },
  {
   "cell_type": "code",
   "execution_count": 4,
   "id": "8a6baeb5-5310-487c-9bd0-49e237d664e3",
   "metadata": {},
   "outputs": [
    {
     "name": "stdout",
     "output_type": "stream",
     "text": [
      "\t\t\t\t1X\t\t\t\t\n",
      "\t\t\t\t1Z\t\t\t\t\n",
      "\t\t\t1Z\t1X\t1Z\t\t\t\n",
      "\t\t1Z\t1X\t1Z\t1X\t1Z\t\t\n",
      "\t1Z\t1X\t1Z\t1X\t1Z\t1X\t1Z\t\n",
      "1Z\t1X\t1Z\t1X\t1Z\t1X\t1Z\t1X\t1Z\n"
     ]
    }
   ],
   "source": [
    "lattice = Lattice([PauliX()], rules)\n",
    "\n",
    "res = lattice.iterate(5)\n",
    "\n",
    "for cells in res:\n",
    "    util.print_list(cells)"
   ]
  },
  {
   "cell_type": "markdown",
   "id": "c2fd3d5a-d9a6-4f75-9b09-5598c8173ef9",
   "metadata": {},
   "source": [
    "### Evolution of Pauli Z Gate"
   ]
  },
  {
   "cell_type": "code",
   "execution_count": 5,
   "id": "1c7d891f",
   "metadata": {},
   "outputs": [
    {
     "name": "stdout",
     "output_type": "stream",
     "text": [
      "\t\t\t\t\t1Z\t\t\t\t\t\n",
      "\t\t\t\t1Z\t1X\t1Z\t\t\t\t\n",
      "\t\t\t1Z\t1X\t1Z\t1X\t1Z\t\t\t\n",
      "\t\t1Z\t1X\t1Z\t1X\t1Z\t1X\t1Z\t\t\n",
      "\t1Z\t1X\t1Z\t1X\t1Z\t1X\t1Z\t1X\t1Z\t\n",
      "1Z\t1X\t1Z\t1X\t1Z\t1X\t1Z\t1X\t1Z\t1X\t1Z\n"
     ]
    }
   ],
   "source": [
    "lattice = Lattice([PauliZ()], rules)\n",
    "\n",
    "res = lattice.iterate(5)\n",
    "\n",
    "for cells in res:\n",
    "    util.print_list(cells)"
   ]
  },
  {
   "cell_type": "markdown",
   "id": "58ad8e9a-de89-48d1-b8a9-a3d92ec6c209",
   "metadata": {
    "tags": []
   },
   "source": [
    "### Glider\n",
    "Starting with Pauli X and Z gates next to each other produces a glider"
   ]
  },
  {
   "cell_type": "code",
   "execution_count": 6,
   "id": "41e574a2-aa50-4474-a336-91afafbc1c62",
   "metadata": {},
   "outputs": [
    {
     "name": "stdout",
     "output_type": "stream",
     "text": [
      "1X\t1Z\t\t\t\t\t\n",
      "\t1X\t1Z\t\t\t\t\n",
      "\t\t1X\t1Z\t\t\t\n",
      "\t\t\t1X\t1Z\t\t\n",
      "\t\t\t\t1X\t1Z\t\n",
      "\t\t\t\t\t1X\t1Z\n"
     ]
    }
   ],
   "source": [
    "lattice = Lattice([PauliX(), PauliZ()], rules)\n",
    "\n",
    "res = lattice.iterate(5)\n",
    "\n",
    "for cells in res:\n",
    "    util.print_list(cells)"
   ]
  },
  {
   "cell_type": "code",
   "execution_count": null,
   "id": "0f87a762-c062-4965-a2ce-22e2486b79b0",
   "metadata": {},
   "outputs": [],
   "source": []
  }
 ],
 "metadata": {
  "kernelspec": {
   "display_name": "Python 3 (ipykernel)",
   "language": "python",
   "name": "python3"
  },
  "language_info": {
   "codemirror_mode": {
    "name": "ipython",
    "version": 3
   },
   "file_extension": ".py",
   "mimetype": "text/x-python",
   "name": "python",
   "nbconvert_exporter": "python",
   "pygments_lexer": "ipython3",
   "version": "3.8.10"
  }
 },
 "nbformat": 4,
 "nbformat_minor": 5
}
